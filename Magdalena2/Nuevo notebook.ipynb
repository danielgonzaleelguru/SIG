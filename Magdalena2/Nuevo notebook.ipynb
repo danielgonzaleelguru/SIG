{
 "cells": [
  {
   "cell_type": "code",
   "execution_count": 30,
   "metadata": {},
   "outputs": [
    {
     "name": "stdout",
     "output_type": "stream",
     "text": [
      "Existe feature\n",
      "Extent of county <geoprocessing describe geometry object object at 0x000002720F832B20>:\n",
      "XMin: 4839535.4589, YMin: 2649988.6396999992\n",
      "XMax: 4886668.3724, YMax: 2705668.6942\n",
      "Sabanas De San Ángel\n"
     ]
    }
   ],
   "source": [
    "\n",
    "import arcpy\n",
    "\n",
    "feature_set = arcpy.FeatureSet(\"E:\\ProyectosArcGiS\\Magdalena2\\Shape\\Pivijay\\Pivijay.shp\")\n",
    "\n",
    "if arcpy.Exists(feature_set):\n",
    "    print(\"Existe feature\")\n",
    "   \n",
    "   \n",
    "with arcpy.da.SearchCursor(feature_set,['MpNombre','SHAPE@']) as cursor:\n",
    "    for row in cursor:\n",
    "        Name= row[0]\n",
    "        extent = row[1].extent\n",
    "        print('Extent of county {}:'.format(row[1]))\n",
    "        print('XMin: {}, YMin: {}'.format(extent.XMin, extent.YMin))\n",
    "        print('XMax: {}, YMax: {}'.format(extent.XMax, extent.YMax))\n",
    "        print(Name)\n",
    "       "
   ]
  },
  {
   "cell_type": "code",
   "execution_count": null,
   "metadata": {},
   "outputs": [],
   "source": [
    "arcpy.Clip_management(\"E:\\ProyectosArcGiS\\Magdalena2\\Raster\\DEM.tif\", \"2536996.21761925 7365614.23930381 2537634.12209192 7366302.3861673\", \n",
    "                      \"E:\\ProyectosArcGiS\\Magdalena2\\Raster\\Salidas\\clip.tif\", \"E:\\ProyectosArcGiS\\Magdalena2\\Shape\\Pivijay\\Pivijay.shp\", \"0\", \"ClippingGeometry\", \n",
    "                      \"MAINTAIN_EXTENT\")\n"
   ]
  }
 ],
 "metadata": {
  "kernelspec": {
   "display_name": "ArcGISPro",
   "language": "Python",
   "name": "python3"
  },
  "language_info": {
   "file_extension": ".py",
   "name": "python",
   "version": "3"
  }
 },
 "nbformat": 4,
 "nbformat_minor": 2
}
