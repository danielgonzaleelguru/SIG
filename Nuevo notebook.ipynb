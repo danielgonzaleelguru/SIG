{
 "cells": [
  {
   "cell_type": "code",
   "execution_count": 13,
   "metadata": {},
   "outputs": [
    {
     "name": "stdout",
     "output_type": "stream",
     "text": [
      "Existe feature\n"
     ]
    }
   ],
   "source": [
    "\n",
    "import arcpy\n",
    "\n",
    "feature_set = arcpy.FeatureSet(\"E:\\ProyectosArcGiS\\Magdalena2\\Shape\\Municipios\\Municipios.shp\")\n",
    "\n",
    "if arcpy.Exists(feature_set):\n",
    "    print(\"Existe feature\")\n",
    "   \n",
    "i=0  \n",
    "with arcpy.da.SearchCursor(feature_set,['FID','MpNombre','SHAPE@']) as cursor:\n",
    "    for row in cursor:\n",
    "        FID= row[0]\n",
    "        Name= row[1]\n",
    "        extent = row[2].extent\n",
    "        where_clause = 'FID ='+str(FID)\n",
    "        FeatureExtend=\"E:\\ProyectosArcGiS\\Magdalena2\\Shape\\\\\"+str(Name)+\".shp\"\n",
    "        arcpy.analysis.Select(\"E:\\ProyectosArcGiS\\Magdalena2\\Shape\\Municipios\\Municipios.shp\", \"E:\\ProyectosArcGiS\\Magdalena2\\Shape\\\\\"+str(Name)+\".shp\", where_clause)\n",
    "        \n",
    "        #print('Extent of county {}:'.format(row[2]))\n",
    "        #print('XMin: {}, YMin: {}'.format(extent.XMin, extent.YMin))\n",
    "        #print('XMax: {}, YMax: {}'.format(extent.XMax, extent.YMax))\n",
    "        rentangle= str(extent.XMin)+\" \"+str(extent.YMin)+\" \"+str(extent.XMax)+\" \"+str(extent.YMax)\n",
    "        i=i+1\n",
    "        arcpy.Clip_management(\"E:\\ProyectosArcGiS\\Magdalena2\\Raster\\DEM.tif\", rentangle, \n",
    "                      \"E:\\ProyectosArcGiS\\Magdalena2\\Raster\\Salidas\\clip\"+str(i)+\".tif\", FeatureExtend, \"0\", \"ClippingGeometry\", \n",
    "                      \"MAINTAIN_EXTENT\")\n",
    "        \n",
    "        \n",
    "       "
   ]
  },
  {
   "cell_type": "code",
   "execution_count": 1,
   "metadata": {},
   "outputs": [
    {
     "data": {
      "text/html": [
       "<div class='gpresult'><h2>Messages</h2><div id='messages'>Tiempo de Inicio: miércoles, 4 de diciembre de 2024 3:50:45 p.\\u00A0m.<br>Construyendo pirámides...<br>Completado correctamente el miércoles, 4 de diciembre de 2024 3:50:47 p.\\u00A0m. (Tiempo transcurrido: 2,19 segundos)<br></div><div id = 'default' /></div></div>"
      ],
      "text/plain": [
       "<Result 'E:\\\\ProyectosArcGiS\\\\Magdalena2\\\\Raster\\\\Salidas\\\\clip.tif'>"
      ]
     },
     "execution_count": 1,
     "metadata": {},
     "output_type": "execute_result"
    }
   ],
   "source": [
    "arcpy.Clip_management(\"E:\\ProyectosArcGiS\\Magdalena2\\Raster\\DEM.tif\", \"4839535.4589 2649988.6396999992 4886668.3724 2705668.6942\", \n",
    "                      \"E:\\ProyectosArcGiS\\Magdalena2\\Raster\\Salidas\\clip.tif\", \"E:\\ProyectosArcGiS\\Magdalena2\\Shape\\Pivijay\\Pivijay.shp\", \"0\", \"ClippingGeometry\", \n",
    "                      \"MAINTAIN_EXTENT\")\n"
   ]
  },
  {
   "cell_type": "code",
   "execution_count": null,
   "metadata": {},
   "outputs": [],
   "source": []
  }
 ],
 "metadata": {
  "kernelspec": {
   "display_name": "ArcGISPro",
   "language": "Python",
   "name": "python3"
  },
  "language_info": {
   "file_extension": ".py",
   "name": "python",
   "version": "3"
  }
 },
 "nbformat": 4,
 "nbformat_minor": 2
}
