{
 "cells": [
  {
   "cell_type": "code",
   "execution_count": 2,
   "metadata": {},
   "outputs": [
    {
     "name": "stdout",
     "output_type": "stream",
     "text": [
      "Existe feature\n"
     ]
    }
   ],
   "source": [
    "\n",
    "import arcpy\n",
    "\n",
    "feature_set = arcpy.FeatureSet(\"E:\\ProyectosArcGiS\\Magdalena2\\Shape\\Municipios\\Municipios.shp\")\n",
    "\n",
    "if arcpy.Exists(feature_set):\n",
    "    print(\"Existe feature\")\n",
    "   \n",
    "i=0  \n",
    "with arcpy.da.SearchCursor(feature_set,['FID','MpNombre','SHAPE@']) as cursor:\n",
    "    for row in cursor:\n",
    "        FID= row[0]\n",
    "        Name= row[1]\n",
    "        extent = row[2].extent\n",
    "        where_clause = 'FID ='+str(FID)       \n",
    "        \n",
    "        \n",
    "        FeatureExtend=\"E:\\ProyectosArcGiS\\Magdalena2\\Shape\\\\\"+str(Name)+\".shp\"\n",
    "        arcpy.analysis.Select(\"E:\\ProyectosArcGiS\\Magdalena2\\Shape\\Municipios\\Municipios.shp\", \n",
    "                              \"E:\\ProyectosArcGiS\\Magdalena2\\Shape2\\\\\"+str(Name)+\".shp\", where_clause)\n",
    "               \n",
    "        \n",
    "        rentangle= str(extent.XMin)+\" \"+str(extent.YMin)+\" \"+str(extent.XMax)+\" \"+str(extent.YMax)\n",
    "        i=i+1\n",
    "        arcpy.Clip_management(\"E:\\ProyectosArcGiS\\Magdalena2\\Raster\\DEM.tif\", rentangle, \n",
    "                      \"E:\\ProyectosArcGiS\\Magdalena2\\Raster2\\Salidas\\clip\"+str(i)+\".tif\", FeatureExtend, \"0\", \"ClippingGeometry\", \n",
    "                      \"MAINTAIN_EXTENT\")\n",
    "        \n",
    "        \n",
    "       "
   ]
  },
  {
   "cell_type": "code",
   "execution_count": 2,
   "metadata": {},
   "outputs": [
    {
     "data": {
      "text/html": [
       "<div class='gpresult'><h2>Messages</h2><div id='messages'>Tiempo de Inicio: jueves, 5 de diciembre de 2024 10:57:16 a.\\u00A0m.<br>Construyendo pirámides...<br>Completado correctamente el jueves, 5 de diciembre de 2024 10:57:17 a.\\u00A0m. (Tiempo transcurrido: 1,18 segundos)<br></div><div id = 'default' /></div></div>"
      ],
      "text/plain": [
       "<Result 'E:\\\\ProyectosArcGiS\\\\Magdalena2\\\\Raster\\\\Salidas\\\\clip.tif'>"
      ]
     },
     "execution_count": 2,
     "metadata": {},
     "output_type": "execute_result"
    }
   ],
   "source": [
    "\n"
   ]
  },
  {
   "cell_type": "code",
   "execution_count": null,
   "metadata": {},
   "outputs": [],
   "source": []
  }
 ],
 "metadata": {
  "kernelspec": {
   "display_name": "ArcGISPro",
   "language": "Python",
   "name": "python3"
  },
  "language_info": {
   "file_extension": ".py",
   "name": "python",
   "version": "3"
  }
 },
 "nbformat": 4,
 "nbformat_minor": 2
}
